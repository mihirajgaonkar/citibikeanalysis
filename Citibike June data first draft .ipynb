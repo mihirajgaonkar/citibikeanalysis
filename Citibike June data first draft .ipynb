{
 "cells": [
  {
   "cell_type": "code",
   "execution_count": 3,
   "id": "b2a5faf8",
   "metadata": {},
   "outputs": [],
   "source": [
    "import pandas as pd\n",
    "import seaborn as sns\n",
    "import matplotlib.pyplot as plt \n",
    "import numpy as np\n",
    "import plotly.express as ps"
   ]
  },
  {
   "cell_type": "markdown",
   "id": "57daf261",
   "metadata": {},
   "source": [
    "## Importing the Data set"
   ]
  },
  {
   "cell_type": "code",
   "execution_count": 5,
   "id": "c82de5cf",
   "metadata": {},
   "outputs": [],
   "source": [
    "df = pd.read_csv(\"C:/Users/mihir/PANDAS/202306-citibike-tripdata.csv\", low_memory=False)"
   ]
  },
  {
   "cell_type": "code",
   "execution_count": 6,
   "id": "3f5658a7",
   "metadata": {},
   "outputs": [
    {
     "data": {
      "text/html": [
       "<div>\n",
       "<style scoped>\n",
       "    .dataframe tbody tr th:only-of-type {\n",
       "        vertical-align: middle;\n",
       "    }\n",
       "\n",
       "    .dataframe tbody tr th {\n",
       "        vertical-align: top;\n",
       "    }\n",
       "\n",
       "    .dataframe thead th {\n",
       "        text-align: right;\n",
       "    }\n",
       "</style>\n",
       "<table border=\"1\" class=\"dataframe\">\n",
       "  <thead>\n",
       "    <tr style=\"text-align: right;\">\n",
       "      <th></th>\n",
       "      <th>ride_id</th>\n",
       "      <th>rideable_type</th>\n",
       "      <th>started_at</th>\n",
       "      <th>ended_at</th>\n",
       "      <th>start_station_name</th>\n",
       "      <th>start_station_id</th>\n",
       "      <th>end_station_name</th>\n",
       "      <th>end_station_id</th>\n",
       "      <th>start_lat</th>\n",
       "      <th>start_lng</th>\n",
       "      <th>end_lat</th>\n",
       "      <th>end_lng</th>\n",
       "      <th>member_casual</th>\n",
       "    </tr>\n",
       "  </thead>\n",
       "  <tbody>\n",
       "    <tr>\n",
       "      <th>0</th>\n",
       "      <td>984F50BCBC76DD9A</td>\n",
       "      <td>classic_bike</td>\n",
       "      <td>2023-06-11 06:54:21</td>\n",
       "      <td>2023-06-11 07:12:28</td>\n",
       "      <td>W 84 St &amp; Columbus Ave</td>\n",
       "      <td>7382.04</td>\n",
       "      <td>Amsterdam Ave &amp; W 125 St</td>\n",
       "      <td>7800.03</td>\n",
       "      <td>40.785000</td>\n",
       "      <td>-73.972834</td>\n",
       "      <td>40.813358</td>\n",
       "      <td>-73.956461</td>\n",
       "      <td>member</td>\n",
       "    </tr>\n",
       "    <tr>\n",
       "      <th>1</th>\n",
       "      <td>03E3D62E7FB76B05</td>\n",
       "      <td>classic_bike</td>\n",
       "      <td>2023-06-19 15:23:11</td>\n",
       "      <td>2023-06-19 16:00:05</td>\n",
       "      <td>E 89 St &amp; York Ave</td>\n",
       "      <td>7204.08</td>\n",
       "      <td>Mott St &amp; Prince St</td>\n",
       "      <td>5561.04</td>\n",
       "      <td>40.777958</td>\n",
       "      <td>-73.945928</td>\n",
       "      <td>40.723180</td>\n",
       "      <td>-73.994800</td>\n",
       "      <td>member</td>\n",
       "    </tr>\n",
       "    <tr>\n",
       "      <th>2</th>\n",
       "      <td>8E7EE421A0B8BBF3</td>\n",
       "      <td>classic_bike</td>\n",
       "      <td>2023-06-06 16:07:05</td>\n",
       "      <td>2023-06-06 16:15:14</td>\n",
       "      <td>E 51 St &amp; 2 Ave</td>\n",
       "      <td>6575.03</td>\n",
       "      <td>E 25 St &amp; 1 Ave</td>\n",
       "      <td>6004.07</td>\n",
       "      <td>40.755357</td>\n",
       "      <td>-73.967489</td>\n",
       "      <td>40.738177</td>\n",
       "      <td>-73.977387</td>\n",
       "      <td>member</td>\n",
       "    </tr>\n",
       "    <tr>\n",
       "      <th>3</th>\n",
       "      <td>24D66A0C46493CB1</td>\n",
       "      <td>classic_bike</td>\n",
       "      <td>2023-06-26 19:52:23</td>\n",
       "      <td>2023-06-26 19:55:47</td>\n",
       "      <td>India St Pier</td>\n",
       "      <td>5794.05</td>\n",
       "      <td>Franklin St &amp; Dupont St</td>\n",
       "      <td>5944.01</td>\n",
       "      <td>40.731735</td>\n",
       "      <td>-73.961239</td>\n",
       "      <td>40.735640</td>\n",
       "      <td>-73.958660</td>\n",
       "      <td>member</td>\n",
       "    </tr>\n",
       "    <tr>\n",
       "      <th>4</th>\n",
       "      <td>E944882A074B8F61</td>\n",
       "      <td>classic_bike</td>\n",
       "      <td>2023-06-05 08:57:57</td>\n",
       "      <td>2023-06-05 09:13:36</td>\n",
       "      <td>E 47 St &amp; 2 Ave</td>\n",
       "      <td>6498.10</td>\n",
       "      <td>5 Ave &amp; E 29 St</td>\n",
       "      <td>6248.06</td>\n",
       "      <td>40.753231</td>\n",
       "      <td>-73.970325</td>\n",
       "      <td>40.745168</td>\n",
       "      <td>-73.986831</td>\n",
       "      <td>member</td>\n",
       "    </tr>\n",
       "  </tbody>\n",
       "</table>\n",
       "</div>"
      ],
      "text/plain": [
       "            ride_id rideable_type           started_at             ended_at  \\\n",
       "0  984F50BCBC76DD9A  classic_bike  2023-06-11 06:54:21  2023-06-11 07:12:28   \n",
       "1  03E3D62E7FB76B05  classic_bike  2023-06-19 15:23:11  2023-06-19 16:00:05   \n",
       "2  8E7EE421A0B8BBF3  classic_bike  2023-06-06 16:07:05  2023-06-06 16:15:14   \n",
       "3  24D66A0C46493CB1  classic_bike  2023-06-26 19:52:23  2023-06-26 19:55:47   \n",
       "4  E944882A074B8F61  classic_bike  2023-06-05 08:57:57  2023-06-05 09:13:36   \n",
       "\n",
       "       start_station_name start_station_id          end_station_name  \\\n",
       "0  W 84 St & Columbus Ave          7382.04  Amsterdam Ave & W 125 St   \n",
       "1      E 89 St & York Ave          7204.08       Mott St & Prince St   \n",
       "2         E 51 St & 2 Ave          6575.03           E 25 St & 1 Ave   \n",
       "3           India St Pier          5794.05   Franklin St & Dupont St   \n",
       "4         E 47 St & 2 Ave          6498.10           5 Ave & E 29 St   \n",
       "\n",
       "  end_station_id  start_lat  start_lng    end_lat    end_lng member_casual  \n",
       "0        7800.03  40.785000 -73.972834  40.813358 -73.956461        member  \n",
       "1        5561.04  40.777958 -73.945928  40.723180 -73.994800        member  \n",
       "2        6004.07  40.755357 -73.967489  40.738177 -73.977387        member  \n",
       "3        5944.01  40.731735 -73.961239  40.735640 -73.958660        member  \n",
       "4        6248.06  40.753231 -73.970325  40.745168 -73.986831        member  "
      ]
     },
     "execution_count": 6,
     "metadata": {},
     "output_type": "execute_result"
    }
   ],
   "source": [
    "df.head()"
   ]
  },
  {
   "cell_type": "markdown",
   "id": "ac466731",
   "metadata": {},
   "source": [
    "## converting the columns and their data types "
   ]
  },
  {
   "cell_type": "code",
   "execution_count": 7,
   "id": "3cd2c038-e229-472a-957f-39598f295227",
   "metadata": {},
   "outputs": [
    {
     "name": "stdout",
     "output_type": "stream",
     "text": [
      "<class 'pandas.core.frame.DataFrame'>\n",
      "RangeIndex: 3560259 entries, 0 to 3560258\n",
      "Data columns (total 13 columns):\n",
      " #   Column              Dtype  \n",
      "---  ------              -----  \n",
      " 0   ride_id             object \n",
      " 1   rideable_type       object \n",
      " 2   started_at          object \n",
      " 3   ended_at            object \n",
      " 4   start_station_name  object \n",
      " 5   start_station_id    object \n",
      " 6   end_station_name    object \n",
      " 7   end_station_id      object \n",
      " 8   start_lat           float64\n",
      " 9   start_lng           float64\n",
      " 10  end_lat             float64\n",
      " 11  end_lng             float64\n",
      " 12  member_casual       object \n",
      "dtypes: float64(4), object(9)\n",
      "memory usage: 353.1+ MB\n"
     ]
    }
   ],
   "source": [
    "df.info()"
   ]
  },
  {
   "cell_type": "code",
   "execution_count": 9,
   "id": "6902bca7",
   "metadata": {},
   "outputs": [],
   "source": [
    "#converting date columns to timestamps \n",
    "\n",
    "df['starttime'] = pd.to_datetime(df['started_at'])\n",
    "df['stoptime'] = pd.to_datetime(df['ended_at'])\n",
    "\n",
    "cols=['ride_id','rideable_type','start_station_name','end_station_name','member_casual']\n",
    "for i in cols:\n",
    "    df[i]= df[i].astype('category')\n",
    "\n",
    "df.drop(columns=['started_at','ended_at'], inplace=True)"
   ]
  },
  {
   "cell_type": "code",
   "execution_count": 10,
   "id": "c06aca08",
   "metadata": {},
   "outputs": [
    {
     "name": "stdout",
     "output_type": "stream",
     "text": [
      "Total number of rows in the dataset 3560259\n"
     ]
    }
   ],
   "source": [
    "# Calculating total number of rows in the dataset  \n",
    "\n",
    "raw_data=len(df)\n",
    "print(f'Total number of rows in the dataset {raw_data}')"
   ]
  },
  {
   "cell_type": "code",
   "execution_count": 21,
   "id": "1e8671e0",
   "metadata": {},
   "outputs": [
    {
     "name": "stdout",
     "output_type": "stream",
     "text": [
      "Total number of null rows dropped 7859\n"
     ]
    }
   ],
   "source": [
    "#dropping the null rows and calculating the total null rows dropped \n",
    "\n",
    "df=df.dropna()\n",
    "null_rows=raw_data - len(df)\n",
    "print(f'Total number of null rows dropped {null_rows}')"
   ]
  },
  {
   "cell_type": "code",
   "execution_count": 22,
   "id": "4f1e18e7-1cce-49dc-95e7-e6b400a1ca73",
   "metadata": {},
   "outputs": [
    {
     "name": "stdout",
     "output_type": "stream",
     "text": [
      "Percentage of data dropped = 0.221%\n",
      "Total number of rows after drop = 3552400\n"
     ]
    }
   ],
   "source": [
    "per_dropped = round((null_rows/raw_data)*100, 3)\n",
    "print(f'Percentage of data dropped = {per_dropped}%')\n",
    "total_rows = raw_data - null_rows\n",
    "print(f'Total number of rows after drop = {total_rows}')"
   ]
  },
  {
   "cell_type": "markdown",
   "id": "d35d61d3-be9e-4565-b50f-0874efad58b3",
   "metadata": {},
   "source": [
    "##### *Since we have excluded less than 2% of data our analysis won't be significantly affected*"
   ]
  },
  {
   "cell_type": "code",
   "execution_count": 18,
   "id": "0a5e8e94",
   "metadata": {},
   "outputs": [],
   "source": [
    "#creating a new data frame\n",
    "\n",
    "df_clean=pd.DataFrame(df, )"
   ]
  },
  {
   "cell_type": "markdown",
   "id": "2cd9e69d",
   "metadata": {},
   "source": [
    "# duration of ride stats"
   ]
  },
  {
   "cell_type": "code",
   "execution_count": 24,
   "id": "39d7e9a2",
   "metadata": {},
   "outputs": [
    {
     "name": "stdout",
     "output_type": "stream",
     "text": [
      "The count of na values 1552\n",
      "Percentage of data dropped = 0.264%\n",
      "Total number of rows after drop = 3550848\n"
     ]
    }
   ],
   "source": [
    "#we create a new column where we calculate the duration of ride, and replace rows where the starttime is > than stoptime by NA\n",
    "df['duration']=df.apply(lambda row: (row['stoptime'] - row['starttime']).total_seconds() if row['stoptime'] > row['starttime'] else pd.NA, axis=1)\n",
    "\n",
    "#count the NA values and drop \n",
    "na_values=df.duration.isna().sum()\n",
    "print(f'The count of na values {na_values}')\n",
    "df.dropna()\n",
    "\n",
    "#total data dropped \n",
    "per_dropped = round(((null_rows + na_values)/raw_data)*100, 3)\n",
    "print(f'Percentage of data dropped = {per_dropped}%')\n",
    "total_rows = raw_data - (null_rows + na_values)\n",
    "print(f'Total number of rows after drop = {total_rows}')"
   ]
  },
  {
   "cell_type": "code",
   "execution_count": 27,
   "id": "fa1ab7aa",
   "metadata": {},
   "outputs": [
    {
     "name": "stdout",
     "output_type": "stream",
     "text": [
      "The Mean duration of a ride is 848.503 seconds or 14.142 minutes\n"
     ]
    }
   ],
   "source": [
    "#mean value of trip duration \n",
    "\n",
    "mean_value=df['duration'].mean()\n",
    "print(f'The Mean duration of a ride is {round(mean_value,3)} seconds or {round(mean_value/60,3)} minutes')"
   ]
  },
  {
   "cell_type": "code",
   "execution_count": 28,
   "id": "7bd509cf",
   "metadata": {},
   "outputs": [
    {
     "name": "stdout",
     "output_type": "stream",
     "text": [
      "However the median value of a duration is 569.0 seconds, this tells us that the data is skewed positively\n"
     ]
    }
   ],
   "source": [
    "#median value of trip duration \n",
    "\n",
    "median_value=df['duration'].median()\n",
    "print(f'However the median value of a duration is {median_value} seconds, this tells us that the data is skewed positively')"
   ]
  },
  {
   "cell_type": "code",
   "execution_count": 36,
   "id": "8bcdb1be",
   "metadata": {},
   "outputs": [
    {
     "name": "stderr",
     "output_type": "stream",
     "text": [
      "C:\\Users\\mihir\\AppData\\Local\\Programs\\Python\\Python311\\Lib\\site-packages\\seaborn\\axisgrid.py:118: UserWarning: The figure layout has changed to tight\n",
      "  self._figure.tight_layout(*args, **kwargs)\n"
     ]
    },
    {
     "data": {
      "text/plain": [
       "<seaborn.axisgrid.FacetGrid at 0x299f523e350>"
      ]
     },
     "execution_count": 36,
     "metadata": {},
     "output_type": "execute_result"
    },
    {
     "data": {
      "image/png": "[encoded data removed]",
      "text/plain": [
       "<Figure size 500x500 with 1 Axes>"
      ]
     },
     "metadata": {},
     "output_type": "display_data"
    }
   ],
   "source": [
    "#Distribution of ride duration and converting the duration column into integers  \n",
    "df['duration']=pd.to_numeric(df['duration'], errors='coerce', downcast='integer')\n",
    "sns.displot(data=df,x=\"duration\", bins=range(1,61))"
   ]
  },
  {
   "cell_type": "code",
   "execution_count": 37,
   "id": "c9dcaea2",
   "metadata": {},
   "outputs": [
    {
     "data": {
      "text/plain": [
       "count    3550848.000\n",
       "mean         848.503\n",
       "std         1568.549\n",
       "min            1.000\n",
       "25%          310.000\n",
       "50%          569.000\n",
       "75%         1028.000\n",
       "max        89892.000\n",
       "Name: duration, dtype: float64"
      ]
     },
     "execution_count": 37,
     "metadata": {},
     "output_type": "execute_result"
    }
   ],
   "source": [
    "round(df.duration.describe(),3)"
   ]
  },
  {
   "cell_type": "markdown",
   "id": "4b09d76d",
   "metadata": {},
   "source": [
    "## Most used station"
   ]
  },
  {
   "cell_type": "code",
   "execution_count": 37,
   "id": "2825e638",
   "metadata": {},
   "outputs": [
    {
     "data": {
      "text/html": [
       "<div>\n",
       "<style scoped>\n",
       "    .dataframe tbody tr th:only-of-type {\n",
       "        vertical-align: middle;\n",
       "    }\n",
       "\n",
       "    .dataframe tbody tr th {\n",
       "        vertical-align: top;\n",
       "    }\n",
       "\n",
       "    .dataframe thead th {\n",
       "        text-align: right;\n",
       "    }\n",
       "</style>\n",
       "<table border=\"1\" class=\"dataframe\">\n",
       "  <thead>\n",
       "    <tr style=\"text-align: right;\">\n",
       "      <th></th>\n",
       "      <th>start_station_id</th>\n",
       "      <th>station_counts</th>\n",
       "    </tr>\n",
       "  </thead>\n",
       "  <tbody>\n",
       "    <tr>\n",
       "      <th>444423</th>\n",
       "      <td>6140.05</td>\n",
       "      <td>13390</td>\n",
       "    </tr>\n",
       "    <tr>\n",
       "      <th>1653638</th>\n",
       "      <td>5329.03</td>\n",
       "      <td>12058</td>\n",
       "    </tr>\n",
       "    <tr>\n",
       "      <th>2321509</th>\n",
       "      <td>6948.10</td>\n",
       "      <td>10992</td>\n",
       "    </tr>\n",
       "    <tr>\n",
       "      <th>144937</th>\n",
       "      <td>5905.14</td>\n",
       "      <td>10947</td>\n",
       "    </tr>\n",
       "    <tr>\n",
       "      <th>2261522</th>\n",
       "      <td>6726.01</td>\n",
       "      <td>10529</td>\n",
       "    </tr>\n",
       "    <tr>\n",
       "      <th>451438</th>\n",
       "      <td>5980.07</td>\n",
       "      <td>10418</td>\n",
       "    </tr>\n",
       "    <tr>\n",
       "      <th>3113788</th>\n",
       "      <td>6765.01</td>\n",
       "      <td>10034</td>\n",
       "    </tr>\n",
       "    <tr>\n",
       "      <th>709199</th>\n",
       "      <td>6157.04</td>\n",
       "      <td>10028</td>\n",
       "    </tr>\n",
       "    <tr>\n",
       "      <th>1513901</th>\n",
       "      <td>6822.09</td>\n",
       "      <td>9932</td>\n",
       "    </tr>\n",
       "    <tr>\n",
       "      <th>344535</th>\n",
       "      <td>6331.01</td>\n",
       "      <td>9854</td>\n",
       "    </tr>\n",
       "    <tr>\n",
       "      <th>1983367</th>\n",
       "      <td>6432.11</td>\n",
       "      <td>9747</td>\n",
       "    </tr>\n",
       "    <tr>\n",
       "      <th>1750041</th>\n",
       "      <td>5184.08</td>\n",
       "      <td>9455</td>\n",
       "    </tr>\n",
       "    <tr>\n",
       "      <th>521958</th>\n",
       "      <td>6912.01</td>\n",
       "      <td>9303</td>\n",
       "    </tr>\n",
       "    <tr>\n",
       "      <th>2336121</th>\n",
       "      <td>6876.04</td>\n",
       "      <td>9292</td>\n",
       "    </tr>\n",
       "    <tr>\n",
       "      <th>2479126</th>\n",
       "      <td>6306.06</td>\n",
       "      <td>9267</td>\n",
       "    </tr>\n",
       "    <tr>\n",
       "      <th>3502685</th>\n",
       "      <td>6459.07</td>\n",
       "      <td>9258</td>\n",
       "    </tr>\n",
       "    <tr>\n",
       "      <th>3335108</th>\n",
       "      <td>5492.05</td>\n",
       "      <td>9230</td>\n",
       "    </tr>\n",
       "    <tr>\n",
       "      <th>2301800</th>\n",
       "      <td>6364.07</td>\n",
       "      <td>9134</td>\n",
       "    </tr>\n",
       "    <tr>\n",
       "      <th>3031408</th>\n",
       "      <td>6173.08</td>\n",
       "      <td>9088</td>\n",
       "    </tr>\n",
       "    <tr>\n",
       "      <th>3442879</th>\n",
       "      <td>6602.03</td>\n",
       "      <td>8986</td>\n",
       "    </tr>\n",
       "  </tbody>\n",
       "</table>\n",
       "</div>"
      ],
      "text/plain": [
       "        start_station_id  station_counts\n",
       "444423           6140.05           13390\n",
       "1653638          5329.03           12058\n",
       "2321509          6948.10           10992\n",
       "144937           5905.14           10947\n",
       "2261522          6726.01           10529\n",
       "451438           5980.07           10418\n",
       "3113788          6765.01           10034\n",
       "709199           6157.04           10028\n",
       "1513901          6822.09            9932\n",
       "344535           6331.01            9854\n",
       "1983367          6432.11            9747\n",
       "1750041          5184.08            9455\n",
       "521958           6912.01            9303\n",
       "2336121          6876.04            9292\n",
       "2479126          6306.06            9267\n",
       "3502685          6459.07            9258\n",
       "3335108          5492.05            9230\n",
       "2301800          6364.07            9134\n",
       "3031408          6173.08            9088\n",
       "3442879          6602.03            8986"
      ]
     },
     "execution_count": 37,
     "metadata": {},
     "output_type": "execute_result"
    }
   ],
   "source": [
    "#getting the top 20 start stations ids \n",
    "df['station_counts']=df.groupby('start_station_id')['start_station_id'].transform('count')\n",
    "count_station = df[['start_station_id', 'station_counts']]\n",
    "count_station = count_station.sort_values(by='station_counts', ascending=False)\n",
    "count_station = count_station.drop_duplicates()\n",
    "count_station.head(20)"
   ]
  },
  {
   "cell_type": "code",
   "execution_count": 38,
   "id": "e5ef411e",
   "metadata": {},
   "outputs": [
    {
     "data": {
      "text/html": [
       "<div>\n",
       "<style scoped>\n",
       "    .dataframe tbody tr th:only-of-type {\n",
       "        vertical-align: middle;\n",
       "    }\n",
       "\n",
       "    .dataframe tbody tr th {\n",
       "        vertical-align: top;\n",
       "    }\n",
       "\n",
       "    .dataframe thead th {\n",
       "        text-align: right;\n",
       "    }\n",
       "</style>\n",
       "<table border=\"1\" class=\"dataframe\">\n",
       "  <thead>\n",
       "    <tr style=\"text-align: right;\">\n",
       "      <th></th>\n",
       "      <th>end_station_id</th>\n",
       "      <th>end_station_counts</th>\n",
       "    </tr>\n",
       "  </thead>\n",
       "  <tbody>\n",
       "    <tr>\n",
       "      <th>2740533</th>\n",
       "      <td>6140.05</td>\n",
       "      <td>13434</td>\n",
       "    </tr>\n",
       "    <tr>\n",
       "      <th>2673223</th>\n",
       "      <td>5329.03</td>\n",
       "      <td>12152</td>\n",
       "    </tr>\n",
       "    <tr>\n",
       "      <th>2999349</th>\n",
       "      <td>5905.14</td>\n",
       "      <td>11115</td>\n",
       "    </tr>\n",
       "    <tr>\n",
       "      <th>3387501</th>\n",
       "      <td>6948.10</td>\n",
       "      <td>10598</td>\n",
       "    </tr>\n",
       "    <tr>\n",
       "      <th>3060811</th>\n",
       "      <td>6726.01</td>\n",
       "      <td>10517</td>\n",
       "    </tr>\n",
       "    <tr>\n",
       "      <th>2998157</th>\n",
       "      <td>5980.07</td>\n",
       "      <td>10514</td>\n",
       "    </tr>\n",
       "    <tr>\n",
       "      <th>316149</th>\n",
       "      <td>6157.04</td>\n",
       "      <td>10087</td>\n",
       "    </tr>\n",
       "    <tr>\n",
       "      <th>407205</th>\n",
       "      <td>6765.01</td>\n",
       "      <td>10079</td>\n",
       "    </tr>\n",
       "    <tr>\n",
       "      <th>2935595</th>\n",
       "      <td>6822.09</td>\n",
       "      <td>9971</td>\n",
       "    </tr>\n",
       "    <tr>\n",
       "      <th>3200424</th>\n",
       "      <td>6331.01</td>\n",
       "      <td>9970</td>\n",
       "    </tr>\n",
       "    <tr>\n",
       "      <th>1898973</th>\n",
       "      <td>6432.11</td>\n",
       "      <td>9748</td>\n",
       "    </tr>\n",
       "    <tr>\n",
       "      <th>128357</th>\n",
       "      <td>5184.08</td>\n",
       "      <td>9497</td>\n",
       "    </tr>\n",
       "    <tr>\n",
       "      <th>3283073</th>\n",
       "      <td>6876.04</td>\n",
       "      <td>9303</td>\n",
       "    </tr>\n",
       "    <tr>\n",
       "      <th>2448618</th>\n",
       "      <td>6306.06</td>\n",
       "      <td>9294</td>\n",
       "    </tr>\n",
       "    <tr>\n",
       "      <th>2573586</th>\n",
       "      <td>6459.07</td>\n",
       "      <td>9264</td>\n",
       "    </tr>\n",
       "    <tr>\n",
       "      <th>461020</th>\n",
       "      <td>5492.05</td>\n",
       "      <td>9260</td>\n",
       "    </tr>\n",
       "    <tr>\n",
       "      <th>3323753</th>\n",
       "      <td>6912.01</td>\n",
       "      <td>9241</td>\n",
       "    </tr>\n",
       "    <tr>\n",
       "      <th>756887</th>\n",
       "      <td>6173.08</td>\n",
       "      <td>9163</td>\n",
       "    </tr>\n",
       "    <tr>\n",
       "      <th>656307</th>\n",
       "      <td>6364.07</td>\n",
       "      <td>9137</td>\n",
       "    </tr>\n",
       "    <tr>\n",
       "      <th>243757</th>\n",
       "      <td>6602.03</td>\n",
       "      <td>8952</td>\n",
       "    </tr>\n",
       "  </tbody>\n",
       "</table>\n",
       "</div>"
      ],
      "text/plain": [
       "        end_station_id  end_station_counts\n",
       "2740533        6140.05               13434\n",
       "2673223        5329.03               12152\n",
       "2999349        5905.14               11115\n",
       "3387501        6948.10               10598\n",
       "3060811        6726.01               10517\n",
       "2998157        5980.07               10514\n",
       "316149         6157.04               10087\n",
       "407205         6765.01               10079\n",
       "2935595        6822.09                9971\n",
       "3200424        6331.01                9970\n",
       "1898973        6432.11                9748\n",
       "128357         5184.08                9497\n",
       "3283073        6876.04                9303\n",
       "2448618        6306.06                9294\n",
       "2573586        6459.07                9264\n",
       "461020         5492.05                9260\n",
       "3323753        6912.01                9241\n",
       "756887         6173.08                9163\n",
       "656307         6364.07                9137\n",
       "243757         6602.03                8952"
      ]
     },
     "execution_count": 38,
     "metadata": {},
     "output_type": "execute_result"
    }
   ],
   "source": [
    "#getting the top 20 end stations ids \n",
    "df['end_station_counts']=df.groupby('end_station_id')['end_station_id'].transform('count')\n",
    "end_count_station = df[['end_station_id', 'end_station_counts']]\n",
    "end_count_station = end_count_station.sort_values(by='end_station_counts', ascending=False)\n",
    "end_count_station = end_count_station.drop_duplicates()\n",
    "end_count_station.head(20)"
   ]
  },
  {
   "cell_type": "code",
   "execution_count": 39,
   "id": "c8382a3c",
   "metadata": {},
   "outputs": [],
   "source": [
    "#getting the top 20 most frequently taken routes\n",
    "df['route']=df.groupby(['start_station_id','end_station_id'])['start_station_id'].transform('count')\n",
    "total_route = df[['start_station_id','end_station_id', 'route']]\n",
    "total_route = total_route.sort_values(by='route', ascending=False)\n",
    "total_route = total_route.drop_duplicates()\n",
    "total_route = total_route[total_route['start_station_id'] != total_route['end_station_id']]\n",
    "total_route_20 = total_route.head(20)"
   ]
  },
  {
   "cell_type": "code",
   "execution_count": 40,
   "id": "b646bb1b",
   "metadata": {},
   "outputs": [
    {
     "name": "stdout",
     "output_type": "stream",
     "text": [
      "       start_station_id end_station_id  route             start_station_name  \\\n",
      "0               4993.13        4953.04    981            Old Slip & South St   \n",
      "4005            5368.03        5297.02    835          River Ter & Warren St   \n",
      "11634           5470.12        5216.06    764  North Moore St & Greenwich St   \n",
      "18437           5216.06        5470.12    623           Vesey St & Church St   \n",
      "26085           6140.05        6266.06    585                W 21 St & 6 Ave   \n",
      "34481           4590.01        4440.02    542               Soissons Landing   \n",
      "36270           4440.02        4590.01    534          Yankee Ferry Terminal   \n",
      "38018           6753.08        6822.09    533                1 Ave & E 62 St   \n",
      "47989           5470.10        5470.12    532       Greenwich St & Hubert St   \n",
      "55637           6382.05        6459.04    528               W 26 St & 10 Ave   \n",
      "63019           5905.14        5905.12    520        University Pl & E 14 St   \n",
      "71681           6190.08        6148.02    506                9 Ave & W 18 St   \n",
      "76347           6876.04        6912.01    504         Central Park S & 6 Ave   \n",
      "85588           6450.12        6526.01    490                8 Ave & W 33 St   \n",
      "88757           5374.01        5294.04    477         Norfolk St & Broome St   \n",
      "94528           5329.03        5696.03    475          West St & Chambers St   \n",
      "103037          6197.08        6197.02    473                E 33 St & 1 Ave   \n",
      "111477          5779.10        5779.08    466                E 14 St & 1 Ave   \n",
      "117765          5788.15        5788.12    463                4 Ave & E 12 St   \n",
      "121130          5001.08        5184.08    456          Little West St & 1 Pl   \n",
      "\n",
      "                     end_station_name  \n",
      "0            South St & Gouverneur Ln  \n",
      "4005         Vesey Pl & River Terrace  \n",
      "11634            Vesey St & Church St  \n",
      "18437   North Moore St & Greenwich St  \n",
      "26085                 9 Ave & W 22 St  \n",
      "34481           Yankee Ferry Terminal  \n",
      "36270                Soissons Landing  \n",
      "38018                 1 Ave & E 68 St  \n",
      "47989   North Moore St & Greenwich St  \n",
      "55637                10 Ave & W 28 St  \n",
      "63019              Broadway & E 14 St  \n",
      "71681                 W 17 St & 8 Ave  \n",
      "76347      7 Ave & Central Park South  \n",
      "85588                 W 35 St & 8 Ave  \n",
      "88757             Henry St & Grand St  \n",
      "94528     Pier 40 - Hudson River Park  \n",
      "103037                2 Ave & E 31 St  \n",
      "111477                1 Ave & E 16 St  \n",
      "117765                E 12 St & 3 Ave  \n",
      "121130           West St & Liberty St  \n"
     ]
    }
   ],
   "source": [
    "df_start_station_names = df[['start_station_name','start_station_id']]\n",
    "total_route_count_final = pd.merge(total_route_20, df_start_station_names, how='left', on='start_station_id')\n",
    "total_route_count_final = total_route_count_final.drop_duplicates()\n",
    "\n",
    "df_end_station_names = df[['end_station_name', 'end_station_id']]\n",
    "total_route_count_final = pd.merge(total_route_count_final, df_end_station_names, how='left', on='end_station_id')\n",
    "total_route_count_final = total_route_count_final.drop_duplicates()\n",
    "\n",
    "print(total_route_count_final)\n"
   ]
  },
  {
   "cell_type": "code",
   "execution_count": 41,
   "id": "e1e9882a",
   "metadata": {
    "scrolled": true
   },
   "outputs": [
    {
     "name": "stdout",
     "output_type": "stream",
     "text": [
      "                  start_station_name               end_station_name  route\n",
      "0                Old Slip & South St       South St & Gouverneur Ln    981\n",
      "4005           River Ter & Warren St       Vesey Pl & River Terrace    835\n",
      "11634  North Moore St & Greenwich St           Vesey St & Church St    764\n",
      "18437           Vesey St & Church St  North Moore St & Greenwich St    623\n",
      "26085                W 21 St & 6 Ave                9 Ave & W 22 St    585\n"
     ]
    }
   ],
   "source": [
    "## MOST USED ROUTES ARE \n",
    "\n",
    "print(total_route_count_final[['start_station_name','end_station_name','route']].head(5))"
   ]
  },
  {
   "cell_type": "markdown",
   "id": "1a3daee5",
   "metadata": {},
   "source": [
    "# Usage by days "
   ]
  },
  {
   "cell_type": "code",
   "execution_count": 42,
   "id": "5b370272",
   "metadata": {},
   "outputs": [],
   "source": [
    "df=df_clean"
   ]
  },
  {
   "cell_type": "code",
   "execution_count": 52,
   "id": "0c2a619d",
   "metadata": {},
   "outputs": [
    {
     "name": "stdout",
     "output_type": "stream",
     "text": [
      "                   stoptime   count\n",
      "0       2023-06-11 07:12:28  111616\n",
      "1       2023-06-19 16:00:05  124177\n",
      "2       2023-06-06 16:15:14  115308\n",
      "3       2023-06-26 19:55:47  105479\n",
      "4       2023-06-05 09:13:36  118161\n",
      "...                     ...     ...\n",
      "3560254 2023-06-22 18:19:31  119845\n",
      "3560255 2023-06-12 09:42:18  100079\n",
      "3560256 2023-06-11 18:02:36  111616\n",
      "3560257 2023-06-27 18:33:12  122394\n",
      "3560258 2023-06-02 14:32:29  114740\n",
      "\n",
      "[3552400 rows x 2 columns]\n"
     ]
    },
    {
     "name": "stderr",
     "output_type": "stream",
     "text": [
      "C:\\Users\\mihir\\AppData\\Local\\Temp\\ipykernel_7800\\109112881.py:3: SettingWithCopyWarning: \n",
      "A value is trying to be set on a copy of a slice from a DataFrame.\n",
      "Try using .loc[row_indexer,col_indexer] = value instead\n",
      "\n",
      "See the caveats in the documentation: https://pandas.pydata.org/pandas-docs/stable/user_guide/indexing.html#returning-a-view-versus-a-copy\n",
      "  day_counts['count']=day_counts.groupby(by=day_counts[\"stoptime\"].dt.date)['stoptime'].transform('count')\n"
     ]
    }
   ],
   "source": [
    "#getting the count per day \n",
    "day_counts=df[['stoptime']]\n",
    "day_counts['count']=day_counts.groupby(by=day_counts[\"stoptime\"].dt.date)['stoptime'].transform('count')\n",
    "print(day_counts)"
   ]
  },
  {
   "cell_type": "code",
   "execution_count": 53,
   "id": "bf0eb29e",
   "metadata": {},
   "outputs": [
    {
     "name": "stderr",
     "output_type": "stream",
     "text": [
      "C:\\Users\\mihir\\AppData\\Local\\Programs\\Python\\Python311\\Lib\\site-packages\\seaborn\\axisgrid.py:118: UserWarning: The figure layout has changed to tight\n",
      "  self._figure.tight_layout(*args, **kwargs)\n"
     ]
    },
    {
     "data": {
      "image/png": "[encoded data removed]",
      "text/plain": [
       "<Figure size 500x500 with 1 Axes>"
      ]
     },
     "metadata": {},
     "output_type": "display_data"
    }
   ],
   "source": [
    "sns.displot(day_counts, x=\"stoptime\", bins=31)\n",
    "plt.xticks(rotation=90)\n",
    "plt.show()"
   ]
  },
  {
   "cell_type": "code",
   "execution_count": 54,
   "id": "215ad42e",
   "metadata": {},
   "outputs": [
    {
     "data": {
      "image/png": "[encoded data removed]",
      "text/plain": [
       "<Figure size 1000x600 with 1 Axes>"
      ]
     },
     "metadata": {},
     "output_type": "display_data"
    }
   ],
   "source": [
    "day_counts = day_counts[day_counts['stoptime'].dt.month == 6] # to remove values from july \n",
    "day_counts['is_weekend'] = day_counts['stoptime'].dt.dayofweek // 5 # to get the weekend \n",
    "plt.figure(figsize=(10, 6))\n",
    "plot = sns.histplot(data=day_counts, x=\"stoptime\", bins=31, hue='is_weekend', multiple='stack', discrete=True, palette=['blue', 'orange'])\n",
    "plt.xticks(rotation=90)\n",
    "plt.show()"
   ]
  },
  {
   "cell_type": "markdown",
   "id": "fb35cb26-88d1-441c-8269-fc3325918479",
   "metadata": {},
   "source": [
    "##### we see that there isn't spike in usage on weekends however the usage is above median, this tells us that there could be a correlation with the climate "
   ]
  },
  {
   "cell_type": "markdown",
   "id": "4d2fe14f",
   "metadata": {},
   "source": [
    "# Distribution by member type and ride type "
   ]
  },
  {
   "cell_type": "code",
   "execution_count": 55,
   "id": "375c612e",
   "metadata": {},
   "outputs": [],
   "source": [
    "df=df_clean"
   ]
  },
  {
   "cell_type": "code",
   "execution_count": 77,
   "id": "e83a8eaf",
   "metadata": {},
   "outputs": [
    {
     "data": {
      "text/plain": [
       "member    2846031\n",
       "casual     706369\n",
       "Name: member_casual, dtype: int64"
      ]
     },
     "execution_count": 77,
     "metadata": {},
     "output_type": "execute_result"
    }
   ],
   "source": [
    "df['member_casual'].value_counts()"
   ]
  },
  {
   "cell_type": "code",
   "execution_count": 59,
   "id": "ff133bf4-96b3-48dd-bd5f-38e31f7c145c",
   "metadata": {},
   "outputs": [
    {
     "data": {
      "image/png": "[encoded data removed]",
      "text/plain": [
       "<Figure size 640x480 with 1 Axes>"
      ]
     },
     "metadata": {},
     "output_type": "display_data"
    }
   ],
   "source": [
    "plt.pie(df['member_casual'].value_counts(), labels=df['member_casual'].unique(), autopct='%.0f%%')\n",
    "plt.show()"
   ]
  },
  {
   "cell_type": "code",
   "execution_count": 58,
   "id": "a0eedecf",
   "metadata": {},
   "outputs": [
    {
     "data": {
      "text/plain": [
       "classic_bike     3171147\n",
       "electric_bike     367689\n",
       "docked_bike        13564\n",
       "Name: rideable_type, dtype: int64"
      ]
     },
     "execution_count": 58,
     "metadata": {},
     "output_type": "execute_result"
    }
   ],
   "source": [
    "df['rideable_type'].value_counts()"
   ]
  },
  {
   "cell_type": "code",
   "execution_count": 58,
   "id": "3e793d9e",
   "metadata": {},
   "outputs": [
    {
     "data": {
      "image/png": "[encoded data removed]",
      "text/plain": [
       "<Figure size 640x480 with 1 Axes>"
      ]
     },
     "metadata": {},
     "output_type": "display_data"
    }
   ],
   "source": [
    "plt.pie(df['rideable_type'].value_counts(), labels=df['rideable_type'].unique(), autopct='%.0f%%')\n",
    "plt.show()\n"
   ]
  },
  {
   "cell_type": "code",
   "execution_count": null,
   "id": "36747d25-ee7f-44e4-a19f-b40de10b35ff",
   "metadata": {},
   "outputs": [],
   "source": [
    "sns.displot(df, x=\"stoptime\", hue=\"member_casual\", bins=31)\n",
    "plt.xticks(rotation=90)\n",
    "plt.show()"
   ]
  },
  {
   "cell_type": "code",
   "execution_count": null,
   "id": "a4b11866-4d9d-46f3-9920-a4795e7462fe",
   "metadata": {},
   "outputs": [],
   "source": []
  }
 ],
 "metadata": {
  "kernelspec": {
   "display_name": "Python 3 (ipykernel)",
   "language": "python",
   "name": "python3"
  },
  "language_info": {
   "codemirror_mode": {
    "name": "ipython",
    "version": 3
   },
   "file_extension": ".py",
   "mimetype": "text/x-python",
   "name": "python",
   "nbconvert_exporter": "python",
   "pygments_lexer": "ipython3",
   "version": "3.11.4"
  }
 },
 "nbformat": 4,
 "nbformat_minor": 5
}
